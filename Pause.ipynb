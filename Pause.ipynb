{
 "cells": [
  {
   "cell_type": "code",
   "execution_count": 9,
   "metadata": {},
   "outputs": [],
   "source": [
    "import cv2\n",
    "import time\n",
    "import HandTrackingModule as htm"
   ]
  },
  {
   "cell_type": "code",
   "execution_count": 10,
   "metadata": {},
   "outputs": [],
   "source": [
    "wCam, hCam = 640, 480\n",
    "cap = cv2.VideoCapture(0)\n",
    "cap.set(3, wCam)\n",
    "cap.set(4, hCam)\n",
    "detector = htm.handDetector()\n",
    "tipIds = [4, 8, 12, 16, 20]\n",
    "pTime = 0\n",
    "paused = False\n",
    "\n",
    "while True:\n",
    "    success, img = cap.read()\n",
    "    img = detector.findHands(img)\n",
    "    lmList = detector.findPosition(img, draw=False)\n",
    "\n",
    "    if len(lmList) != 0:\n",
    "        fingers = []   \n",
    "        if lmList[tipIds[0]][1] > lmList[tipIds[0]-1][1]:\n",
    "            fingers.append(1)\n",
    "        else:\n",
    "            fingers.append(0)\n",
    "        for id in range(1,5):\n",
    "            if lmList[tipIds[id]][2] < lmList[tipIds[id]-2][2]:\n",
    "                fingers.append(1)\n",
    "            else:\n",
    "                fingers.append(0)\n",
    "        #print(fingers)    \n",
    "        totalFingers  = fingers.count(1)\n",
    "        cv2.imshow(\"Image\", img)\n",
    "        # Pause screen if 4 or more fingers are detected and not already paused\n",
    "        if totalFingers >= 4 and not paused:\n",
    "            paused = True\n",
    "            cv2.putText(img, \"Paused\", (50, 50), cv2.FONT_HERSHEY_SIMPLEX, 1, (0, 0, 255), 2)\n",
    "        if cv2.waitKey(1) and totalFingers < 4 and paused:\n",
    "            paused = False\n",
    "            break\n",
    "        else:\n",
    "            cv2.imshow(\"Image\", img)\n",
    "\n",
    "    if paused:\n",
    "        cv2.putText(img, \"Paused\", (50, 50), cv2.FONT_HERSHEY_SIMPLEX, 1, (0, 0, 255), 2)\n",
    "    else:\n",
    "        cTime = time.time()\n",
    "        fps = 1/(cTime-pTime)\n",
    "        pTime =cTime\n",
    "\n",
    "        cv2.putText(img, f'FPS : {int(fps)}', (50, 50), cv2.FONT_HERSHEY_SIMPLEX, 1, (0, 255, 0), 2)\n",
    "\n",
    "    cv2.imshow(\"Image\", img)\n",
    "    cv2.waitKey(1)\n",
    "    if cv2.waitKey(1) & 0xFF == ord('q'):\n",
    "        break\n",
    "cap.release()\n",
    "cv2.destroyAllWindows()"
   ]
  }
 ],
 "metadata": {
  "kernelspec": {
   "display_name": "Python 3",
   "language": "python",
   "name": "python3"
  },
  "language_info": {
   "codemirror_mode": {
    "name": "ipython",
    "version": 3
   },
   "file_extension": ".py",
   "mimetype": "text/x-python",
   "name": "python",
   "nbconvert_exporter": "python",
   "pygments_lexer": "ipython3",
   "version": "3.12.3"
  }
 },
 "nbformat": 4,
 "nbformat_minor": 2
}
